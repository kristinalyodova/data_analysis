{
  "nbformat": 4,
  "nbformat_minor": 0,
  "metadata": {
    "colab": {
      "name": "task2.ipynb",
      "provenance": []
    },
    "kernelspec": {
      "name": "python3",
      "display_name": "Python 3"
    },
    "language_info": {
      "name": "python"
    }
  },
  "cells": [
    {
      "cell_type": "markdown",
      "metadata": {
        "id": "Rggw9d8on477"
      },
      "source": [
        "# МОСКОВСКИЙ АВИАЦИОННЫЙ ИНСТИТУТ\n",
        "# (Национальный исследовательский университет)\n",
        "## Домашняя работа №1\n",
        "## по дисциплине: \"Анализ данных\"\n",
        "## Выполнила:\n",
        "## студентка группы Т12О-101М-20\n",
        "## Лёдова Кристина\n",
        "## Преподаватель:\n",
        "## Джумурат Александр\n",
        "### Москва, 2021 г.\n"
      ]
    },
    {
      "cell_type": "markdown",
      "metadata": {
        "id": "cdwP_OQSoNIe"
      },
      "source": [
        "# **Задание: реализация наивного Байесовского классификатора**"
      ]
    },
    {
      "cell_type": "markdown",
      "metadata": {
        "id": "wvF1QSmpnlbb"
      },
      "source": [
        "# Подготовка данных для обучения классификатора:"
      ]
    },
    {
      "cell_type": "code",
      "metadata": {
        "colab": {
          "resources": {
            "http://localhost:8080/nbextensions/google.colab/files.js": {
              "data": "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",
              "ok": true,
              "headers": [
                [
                  "content-type",
                  "application/javascript"
                ]
              ],
              "status": 200,
              "status_text": ""
            }
          },
          "base_uri": "https://localhost:8080/",
          "height": 72
        },
        "id": "S3h132v2hwoO",
        "outputId": "1cff2d41-5db1-4363-f5cc-7edfd8b54335"
      },
      "source": [
        "from google.colab import files\n",
        "uploaded = files.upload()"
      ],
      "execution_count": 8,
      "outputs": [
        {
          "output_type": "display_data",
          "data": {
            "text/html": [
              "\n",
              "     <input type=\"file\" id=\"files-b568bb69-a3f1-4a69-8231-a7398834bccf\" name=\"files[]\" multiple disabled\n",
              "        style=\"border:none\" />\n",
              "     <output id=\"result-b568bb69-a3f1-4a69-8231-a7398834bccf\">\n",
              "      Upload widget is only available when the cell has been executed in the\n",
              "      current browser session. Please rerun this cell to enable.\n",
              "      </output>\n",
              "      <script src=\"/nbextensions/google.colab/files.js\"></script> "
            ],
            "text/plain": [
              "<IPython.core.display.HTML object>"
            ]
          },
          "metadata": {
            "tags": []
          }
        },
        {
          "output_type": "stream",
          "text": [
            "Saving sms_spam_collection.tar.gz to sms_spam_collection.tar.gz\n"
          ],
          "name": "stdout"
        }
      ]
    },
    {
      "cell_type": "code",
      "metadata": {
        "colab": {
          "base_uri": "https://localhost:8080/",
          "height": 142
        },
        "id": "SKMwss6zh3bs",
        "outputId": "7661c99a-e2bf-446d-d0e8-c6f5504b2737"
      },
      "source": [
        "import pandas as pd\n",
        "\n",
        "filename = 'sms_spam_collection.tar.gz'\n",
        "\n",
        "df = pd.read_csv(\n",
        "    filename,\n",
        "    compression='gzip',\n",
        "    header=1,\n",
        "    sep='\\t',\n",
        "    encoding='utf8',\n",
        "    names=['class', 'sms_text'],\n",
        "    error_bad_lines=False\n",
        ")\n",
        "\n",
        "\n",
        "df.head(3)"
      ],
      "execution_count": 11,
      "outputs": [
        {
          "output_type": "execute_result",
          "data": {
            "text/html": [
              "<div>\n",
              "<style scoped>\n",
              "    .dataframe tbody tr th:only-of-type {\n",
              "        vertical-align: middle;\n",
              "    }\n",
              "\n",
              "    .dataframe tbody tr th {\n",
              "        vertical-align: top;\n",
              "    }\n",
              "\n",
              "    .dataframe thead th {\n",
              "        text-align: right;\n",
              "    }\n",
              "</style>\n",
              "<table border=\"1\" class=\"dataframe\">\n",
              "  <thead>\n",
              "    <tr style=\"text-align: right;\">\n",
              "      <th></th>\n",
              "      <th>class</th>\n",
              "      <th>sms_text</th>\n",
              "    </tr>\n",
              "  </thead>\n",
              "  <tbody>\n",
              "    <tr>\n",
              "      <th>0</th>\n",
              "      <td>spam</td>\n",
              "      <td>Free entry in 2 a wkly comp to win FA Cup fina...</td>\n",
              "    </tr>\n",
              "    <tr>\n",
              "      <th>1</th>\n",
              "      <td>ham</td>\n",
              "      <td>U dun say so early hor... U c already then say...</td>\n",
              "    </tr>\n",
              "    <tr>\n",
              "      <th>2</th>\n",
              "      <td>ham</td>\n",
              "      <td>Nah I don't think he goes to usf, he lives aro...</td>\n",
              "    </tr>\n",
              "  </tbody>\n",
              "</table>\n",
              "</div>"
            ],
            "text/plain": [
              "  class                                           sms_text\n",
              "0  spam  Free entry in 2 a wkly comp to win FA Cup fina...\n",
              "1   ham  U dun say so early hor... U c already then say...\n",
              "2   ham  Nah I don't think he goes to usf, he lives aro..."
            ]
          },
          "metadata": {
            "tags": []
          },
          "execution_count": 11
        }
      ]
    },
    {
      "cell_type": "markdown",
      "metadata": {
        "id": "Kr_j0SN2iWR8"
      },
      "source": [
        "###Проверяем количество объектов в датасете"
      ]
    },
    {
      "cell_type": "code",
      "metadata": {
        "colab": {
          "base_uri": "https://localhost:8080/"
        },
        "id": "aSvmYSkMigj8",
        "outputId": "194027d6-7b7f-4b63-b14c-4349923f83f2"
      },
      "source": [
        "num_objects, num_features = df.shape\n",
        "print(num_objects, num_features)"
      ],
      "execution_count": 12,
      "outputs": [
        {
          "output_type": "stream",
          "text": [
            "5571 2\n"
          ],
          "name": "stdout"
        }
      ]
    },
    {
      "cell_type": "markdown",
      "metadata": {
        "id": "7KTv9sxIimB8"
      },
      "source": [
        "###Убираем все NaN значения"
      ]
    },
    {
      "cell_type": "code",
      "metadata": {
        "id": "Vf6cz9ETiZrM"
      },
      "source": [
        "df = df.dropna()"
      ],
      "execution_count": 13,
      "outputs": []
    },
    {
      "cell_type": "markdown",
      "metadata": {
        "id": "QwbM8gXokmEb"
      },
      "source": [
        "###Целевая переменная (target) в столбце class"
      ]
    },
    {
      "cell_type": "code",
      "metadata": {
        "colab": {
          "base_uri": "https://localhost:8080/"
        },
        "id": "Lq-5VszSkqSD",
        "outputId": "ea920c79-d494-4f73-aae3-dcf8d9248a40"
      },
      "source": [
        "df['class'].head()"
      ],
      "execution_count": 14,
      "outputs": [
        {
          "output_type": "execute_result",
          "data": {
            "text/plain": [
              "0    spam\n",
              "1     ham\n",
              "2     ham\n",
              "3    spam\n",
              "4     ham\n",
              "Name: class, dtype: object"
            ]
          },
          "metadata": {
            "tags": []
          },
          "execution_count": 14
        }
      ]
    },
    {
      "cell_type": "markdown",
      "metadata": {
        "id": "AsvU36y9kvdk"
      },
      "source": [
        "###Демонстрация того, как получить булеву маску для датафрейма"
      ]
    },
    {
      "cell_type": "code",
      "metadata": {
        "colab": {
          "base_uri": "https://localhost:8080/"
        },
        "id": "TRWsM0Sokw8T",
        "outputId": "118cb445-9874-49ea-dd7a-9cdaddd1a0c5"
      },
      "source": [
        "SPAM_CLASS = 'spam'\n",
        "NOT_SPAM_CLASS = 'ham'\n",
        "\n",
        "df['class'] == SPAM_CLASS"
      ],
      "execution_count": 15,
      "outputs": [
        {
          "output_type": "execute_result",
          "data": {
            "text/plain": [
              "0        True\n",
              "1       False\n",
              "2       False\n",
              "3        True\n",
              "4       False\n",
              "        ...  \n",
              "5565     True\n",
              "5566    False\n",
              "5567    False\n",
              "5568    False\n",
              "5569    False\n",
              "Name: class, Length: 5570, dtype: bool"
            ]
          },
          "metadata": {
            "tags": []
          },
          "execution_count": 15
        }
      ]
    },
    {
      "cell_type": "markdown",
      "metadata": {
        "id": "2Q60zyEnk0b7"
      },
      "source": [
        "###Использование булевой маски для фильтрации датафрейма"
      ]
    },
    {
      "cell_type": "code",
      "metadata": {
        "colab": {
          "base_uri": "https://localhost:8080/"
        },
        "id": "I8j2Gvdnk3zj",
        "outputId": "fc75e9d8-7281-45b3-ef83-ba26d0b86399"
      },
      "source": [
        "spam_sms_num = (df['class'] == SPAM_CLASS).sum()\n",
        "notspam_sms_num = (df['class'] == NOT_SPAM_CLASS).sum()\n",
        "\n",
        "print(f'spam sms: {spam_sms_num}, not spam sms {notspam_sms_num}')"
      ],
      "execution_count": 16,
      "outputs": [
        {
          "output_type": "stream",
          "text": [
            "spam sms: 747, not spam sms 4823\n"
          ],
          "name": "stdout"
        }
      ]
    },
    {
      "cell_type": "markdown",
      "metadata": {
        "id": "pVvu8X2Qk8EE"
      },
      "source": [
        "###Пример: считаем вероятности классов"
      ]
    },
    {
      "cell_type": "code",
      "metadata": {
        "colab": {
          "base_uri": "https://localhost:8080/"
        },
        "id": "6zOqQ-ADlBeL",
        "outputId": "17284932-5cab-4051-e565-2791226942a7"
      },
      "source": [
        "# априорная вероятность класса спам\n",
        "p_spam = spam_sms_num / num_objects\n",
        "\n",
        "# априорная вероятность класса не спам\n",
        "p_notspam = notspam_sms_num / num_objects\n",
        "\n",
        "print(f'{p_spam:.4f}, {p_notspam:.4f}')"
      ],
      "execution_count": 17,
      "outputs": [
        {
          "output_type": "stream",
          "text": [
            "0.1341, 0.8657\n"
          ],
          "name": "stdout"
        }
      ]
    },
    {
      "cell_type": "markdown",
      "metadata": {
        "id": "c3Vk81TWlFDD"
      },
      "source": [
        "###Пример обработки текстовой информации:приводим к нижнему регистру"
      ]
    },
    {
      "cell_type": "code",
      "metadata": {
        "colab": {
          "base_uri": "https://localhost:8080/",
          "height": 35
        },
        "id": "zC4bTQrolKCz",
        "outputId": "01836bea-cce9-4273-91c5-9258cc2779c2"
      },
      "source": [
        "test_word = 'Free'.lower()\n",
        "\n",
        "test_word"
      ],
      "execution_count": 18,
      "outputs": [
        {
          "output_type": "execute_result",
          "data": {
            "application/vnd.google.colaboratory.intrinsic+json": {
              "type": "string"
            },
            "text/plain": [
              "'free'"
            ]
          },
          "metadata": {
            "tags": []
          },
          "execution_count": 18
        }
      ]
    },
    {
      "cell_type": "code",
      "metadata": {
        "colab": {
          "base_uri": "https://localhost:8080/",
          "height": 35
        },
        "id": "zlBOkBJulQ2r",
        "outputId": "c6b90dbf-cb09-479a-e25e-f48579312969"
      },
      "source": [
        "sms_example = df['sms_text'].values[0]\n",
        "\n",
        "sms_example"
      ],
      "execution_count": 19,
      "outputs": [
        {
          "output_type": "execute_result",
          "data": {
            "application/vnd.google.colaboratory.intrinsic+json": {
              "type": "string"
            },
            "text/plain": [
              "\"Free entry in 2 a wkly comp to win FA Cup final tkts 21st May 2005. Text FA to 87121 to receive entry question(std txt rate)T&C's apply 08452810075over18's\""
            ]
          },
          "metadata": {
            "tags": []
          },
          "execution_count": 19
        }
      ]
    },
    {
      "cell_type": "markdown",
      "metadata": {
        "id": "sNxPGxAclTeE"
      },
      "source": [
        "###Пишем полезные сниппеты для трансформации текста"
      ]
    },
    {
      "cell_type": "code",
      "metadata": {
        "colab": {
          "base_uri": "https://localhost:8080/",
          "height": 52
        },
        "id": "kqRaN7S6lVFr",
        "outputId": "99ec6281-f990-464e-80b7-52bd0791fc99"
      },
      "source": [
        "# удаляем знаки препинания\n",
        "import string\n",
        "\n",
        "print(string.punctuation)\n",
        "\n",
        "sms_example = ''.join([\n",
        "    char\n",
        "    for char in sms_example\n",
        "    if char not in string.punctuation\n",
        "])\n",
        "\n",
        "sms_example"
      ],
      "execution_count": 20,
      "outputs": [
        {
          "output_type": "stream",
          "text": [
            "!\"#$%&'()*+,-./:;<=>?@[\\]^_`{|}~\n"
          ],
          "name": "stdout"
        },
        {
          "output_type": "execute_result",
          "data": {
            "application/vnd.google.colaboratory.intrinsic+json": {
              "type": "string"
            },
            "text/plain": [
              "'Free entry in 2 a wkly comp to win FA Cup final tkts 21st May 2005 Text FA to 87121 to receive entry questionstd txt rateTCs apply 08452810075over18s'"
            ]
          },
          "metadata": {
            "tags": []
          },
          "execution_count": 20
        }
      ]
    },
    {
      "cell_type": "code",
      "metadata": {
        "colab": {
          "base_uri": "https://localhost:8080/",
          "height": 35
        },
        "id": "1aHSFP0FlasL",
        "outputId": "758f416c-9aee-46c2-da3f-c311ca0d05f1"
      },
      "source": [
        "# приводим слова к нижнему регистру\n",
        "\n",
        "#.lower()\n",
        "sms_example = ' '.join([\n",
        "    word.lower()\n",
        "    for word in sms_example.split(sep=' ')\n",
        "])\n",
        "\n",
        "sms_example"
      ],
      "execution_count": 21,
      "outputs": [
        {
          "output_type": "execute_result",
          "data": {
            "application/vnd.google.colaboratory.intrinsic+json": {
              "type": "string"
            },
            "text/plain": [
              "'free entry in 2 a wkly comp to win fa cup final tkts 21st may 2005 text fa to 87121 to receive entry questionstd txt ratetcs apply 08452810075over18s'"
            ]
          },
          "metadata": {
            "tags": []
          },
          "execution_count": 21
        }
      ]
    },
    {
      "cell_type": "markdown",
      "metadata": {
        "id": "KC4yBoXyld0M"
      },
      "source": [
        "### Объединяем сниппеты в функцию"
      ]
    },
    {
      "cell_type": "code",
      "metadata": {
        "colab": {
          "base_uri": "https://localhost:8080/"
        },
        "id": "40YWsmCRlhGz",
        "outputId": "9d692024-55e5-457d-be7b-a80bf940fff5"
      },
      "source": [
        "import string\n",
        "\n",
        "def text_preprocess(sms_text: str) -> str:\n",
        "    \"\"\"Преобразование текста для анализа\"\"\"\n",
        "    text_no_punctuation = ''.join([\n",
        "        char\n",
        "        for char in sms_text\n",
        "        if char not in string.punctuation\n",
        "    ])\n",
        "    text_lowercase = ' '.join([\n",
        "        word.lower()\n",
        "        for word in text_no_punctuation.split(sep=' ')\n",
        "    ])\n",
        "    \n",
        "    return text_lowercase\n",
        "\n",
        "\n",
        "sms_example = df['sms_text'].values[0]\n",
        "\n",
        "print(text_preprocess(sms_example))"
      ],
      "execution_count": 22,
      "outputs": [
        {
          "output_type": "stream",
          "text": [
            "free entry in 2 a wkly comp to win fa cup final tkts 21st may 2005 text fa to 87121 to receive entry questionstd txt ratetcs apply 08452810075over18s\n"
          ],
          "name": "stdout"
        }
      ]
    },
    {
      "cell_type": "markdown",
      "metadata": {
        "id": "FzjAGsxYlmm9"
      },
      "source": [
        "### Трансформируем каждую строчку датафрейма"
      ]
    },
    {
      "cell_type": "code",
      "metadata": {
        "colab": {
          "base_uri": "https://localhost:8080/",
          "height": 204
        },
        "id": "GcBP3tuVloO8",
        "outputId": "cf777e45-723b-4d67-bc85-75508990a691"
      },
      "source": [
        "df = df.assign(\n",
        "    processed_text=df['sms_text'].apply(text_preprocess)\n",
        ")\n",
        "\n",
        "df.head()"
      ],
      "execution_count": 23,
      "outputs": [
        {
          "output_type": "execute_result",
          "data": {
            "text/html": [
              "<div>\n",
              "<style scoped>\n",
              "    .dataframe tbody tr th:only-of-type {\n",
              "        vertical-align: middle;\n",
              "    }\n",
              "\n",
              "    .dataframe tbody tr th {\n",
              "        vertical-align: top;\n",
              "    }\n",
              "\n",
              "    .dataframe thead th {\n",
              "        text-align: right;\n",
              "    }\n",
              "</style>\n",
              "<table border=\"1\" class=\"dataframe\">\n",
              "  <thead>\n",
              "    <tr style=\"text-align: right;\">\n",
              "      <th></th>\n",
              "      <th>class</th>\n",
              "      <th>sms_text</th>\n",
              "      <th>processed_text</th>\n",
              "    </tr>\n",
              "  </thead>\n",
              "  <tbody>\n",
              "    <tr>\n",
              "      <th>0</th>\n",
              "      <td>spam</td>\n",
              "      <td>Free entry in 2 a wkly comp to win FA Cup fina...</td>\n",
              "      <td>free entry in 2 a wkly comp to win fa cup fina...</td>\n",
              "    </tr>\n",
              "    <tr>\n",
              "      <th>1</th>\n",
              "      <td>ham</td>\n",
              "      <td>U dun say so early hor... U c already then say...</td>\n",
              "      <td>u dun say so early hor u c already then say</td>\n",
              "    </tr>\n",
              "    <tr>\n",
              "      <th>2</th>\n",
              "      <td>ham</td>\n",
              "      <td>Nah I don't think he goes to usf, he lives aro...</td>\n",
              "      <td>nah i dont think he goes to usf he lives aroun...</td>\n",
              "    </tr>\n",
              "    <tr>\n",
              "      <th>3</th>\n",
              "      <td>spam</td>\n",
              "      <td>FreeMsg Hey there darling it's been 3 week's n...</td>\n",
              "      <td>freemsg hey there darling its been 3 weeks now...</td>\n",
              "    </tr>\n",
              "    <tr>\n",
              "      <th>4</th>\n",
              "      <td>ham</td>\n",
              "      <td>Even my brother is not like to speak with me. ...</td>\n",
              "      <td>even my brother is not like to speak with me t...</td>\n",
              "    </tr>\n",
              "  </tbody>\n",
              "</table>\n",
              "</div>"
            ],
            "text/plain": [
              "  class  ...                                     processed_text\n",
              "0  spam  ...  free entry in 2 a wkly comp to win fa cup fina...\n",
              "1   ham  ...        u dun say so early hor u c already then say\n",
              "2   ham  ...  nah i dont think he goes to usf he lives aroun...\n",
              "3  spam  ...  freemsg hey there darling its been 3 weeks now...\n",
              "4   ham  ...  even my brother is not like to speak with me t...\n",
              "\n",
              "[5 rows x 3 columns]"
            ]
          },
          "metadata": {
            "tags": []
          },
          "execution_count": 23
        }
      ]
    },
    {
      "cell_type": "markdown",
      "metadata": {
        "id": "XZ5lIDZWlyuj"
      },
      "source": [
        "Находим вероятность встретить слово в каждом из классов - это наша основная \"фича\" в наивном байесовском классификаторе"
      ]
    },
    {
      "cell_type": "code",
      "metadata": {
        "colab": {
          "base_uri": "https://localhost:8080/"
        },
        "id": "sevP4mOslz1D",
        "outputId": "31939f2a-6838-4e20-bfd6-ba7d106e05be"
      },
      "source": [
        "# вероятность встретить слово в спам смс\n",
        "# посчитайте, сколько раз test_word встречается в документах класса spam\n",
        "\n",
        "spam_test_word_entries = df[\n",
        "    df['class'] == SPAM_CLASS\n",
        "]['processed_text'].apply(\n",
        "    lambda row: test_word in row\n",
        ").sum()\n",
        "\n",
        "# вероятность встретить слово в не-спам смс\n",
        "# посчитайте, сколько раз test_word встречаемся в документах класса not spam\n",
        "notspam_test_word_entries = df[\n",
        "    df['class'] == NOT_SPAM_CLASS\n",
        "]['processed_text'].apply(\n",
        "    lambda row: test_word in row\n",
        ").sum()\n",
        "\n",
        "print(f'P(word=\"{test_word}\"|class=spam)={spam_test_word_entries/spam_sms_num:.4f}')\n",
        "print(f'P(word=\"{test_word}\"|class=not_spam)={notspam_test_word_entries/notspam_sms_num:.4f}')"
      ],
      "execution_count": 24,
      "outputs": [
        {
          "output_type": "stream",
          "text": [
            "P(word=\"free\"|class=spam)=0.2664\n",
            "P(word=\"free\"|class=not_spam)=0.0137\n"
          ],
          "name": "stdout"
        }
      ]
    },
    {
      "cell_type": "markdown",
      "metadata": {
        "id": "zSTIdStul4pD"
      },
      "source": [
        "### **Вывод:**\n",
        "### Вероятность появления слова \"free\" в спам-сообщениях - 26,64%, в обычных сообщениях (не спам) - 1,37%.\n",
        "### Таким образом, слово \"free\" можно использовать в качестве \"маркера\" спам-сообщений."
      ]
    },
    {
      "cell_type": "markdown",
      "metadata": {
        "id": "5hekjzY9mzJm"
      },
      "source": [
        "\n",
        "### **Реализовать классификатор:**\n",
        "### Аналогично тому, как посчитали вероятности встретить слово free в каждом классе (спам/не спам)\n",
        "\n",
        "### - в функции fit() подсчитать такие вероятности для каждого слова\n",
        "### - в функции predict() по формуле байеса (см. лекцию) вычислять вероятность принадлежности входного текста к каждому из классов\n",
        "\n",
        "### Результат предсказания - класс, вероятность принадлежности к которому больше"
      ]
    },
    {
      "cell_type": "code",
      "metadata": {
        "id": "iIru7YJ_m6kx"
      },
      "source": [
        "from collections import defaultdict, Counter\n",
        "from typing import List\n",
        "from copy import deepcopy\n",
        "\n",
        "import numpy as np\n",
        "\n",
        "\"\"\"имплементация наивного байесовского классификатора\"\"\"\n",
        "class NaiveBayes:\n",
        "    def __init__(self):\n",
        "        \n",
        "        self.labels = [NOT_SPAM_CLASS, SPAM_CLASS]\n",
        "        self.class_labels_proba = None  # априорная вероятность класса\n",
        "        self.prior_word_proba = None  # частоты фичей (токенов)\n",
        "    \n",
        "    def _set_labels_prior_proba(self, data: list, target: list):\n",
        "        \"\"\"Вычисление априорной (безусловной) вероятности классов\"\"\"\n",
        "               \n",
        "        class_labels_count = Counter(target) # {'not_spam': N, 'spam': N}\n",
        "        \n",
        "        class_labels_proba = class_labels_count\n",
        "        \n",
        "        # нормирование \n",
        "        for label in class_labels_count.keys():\n",
        "            class_labels_proba[label] /= len(data)\n",
        "             \n",
        "        # инициализация self.class_labels_proba\n",
        "        self.class_labels_proba = class_labels_proba\n",
        "    \n",
        "    def _tokenize_text(self, text):\n",
        "        '''разбиение слов каждого текста на отдельные элементы'''\n",
        "        tokens = []\n",
        "        \n",
        "        try:\n",
        "            processed_text = text_preprocess(text)\n",
        "            tokens = processed_text.split(' ')\n",
        "            \n",
        "        except TypeError:\n",
        "            print(f'Ошибка при обработке текста sms: {text}')\n",
        "            \n",
        "        return tokens\n",
        "    \n",
        "    def _set_word_prior_proba(self, data, target):\n",
        "        '''вычисление априорной (безусловной) вероятности токенов в классе''' \n",
        "        word_count_dict_by_class = dict.fromkeys(self.labels, 0) # {'not_spam': 0, 'spam': 0}\n",
        "        word_count_dict_total = defaultdict(int)\n",
        "        \n",
        "        for label in word_count_dict_by_class.keys():\n",
        "            word_count_dict_by_class[label] = defaultdict(int)\n",
        "        \n",
        "        for label, feat in zip(target, data):\n",
        "            for token in self._tokenize_text(feat):\n",
        "                word_count_dict_by_class[label][token] += 1\n",
        "                word_count_dict_total[token] += 1\n",
        "                \n",
        "        total_token_count = sum([num for token, num in word_count_dict_total.items()])\n",
        "        \n",
        "        # нормирование\n",
        "        for label in word_count_dict_by_class:\n",
        "            for token in word_count_dict_by_class[label]:\n",
        "                word_count_dict_by_class[label][token] /= total_token_count\n",
        "                \n",
        "        # Заполняем словарь self.prior_word_proba\n",
        "        self.prior_word_proba = word_count_dict_by_class\n",
        "\n",
        "    def fit(self, data: list, target: list):\n",
        "        \"\"\"Обучение статистик по датасету\n",
        "\n",
        "        :param data: массив документов, каждый документ - объект типа str\n",
        "        :param target: массив меток объектов\n",
        "        :return:\n",
        "        \"\"\"\n",
        "        if not isinstance(data, list):\n",
        "            raise ValueError('Аргумент data должен иметь тип list')\n",
        "            \n",
        "        if not isinstance(target, list):\n",
        "            raise ValueError('Аргумент target должен иметь тип list')\n",
        "            \n",
        "        print('Данные инициализированы!')\n",
        "        \n",
        "        self._set_labels_prior_proba(data, target)\n",
        "        \n",
        "        print(f'Априорные вероятности классов {self.class_labels_proba}')\n",
        "        \n",
        "        self._set_word_prior_proba(data, target)\n",
        "        \n",
        "        print('Обучили априорные вероятности слов')\n",
        "\n",
        "    def _predict_proba(self, data: list) -> List[tuple]:\n",
        "        \"\"\"Предсказываем класс для текстовой смс\n",
        "\n",
        "        :param data: массив документов, для каждого из которых нужно предсказать метку\n",
        "        :return: вероятности для каждого из классов\n",
        "        \"\"\"\n",
        "        prediction = []\n",
        "        \n",
        "        for obj in data:\n",
        "            posterior_class_proba = defaultdict(lambda: 1)\n",
        "            for token in self._tokenize_text(obj):\n",
        "                for label in self.labels:\n",
        "                    posterior_class_proba[label] *= self.prior_word_proba[label][token]\n",
        "            # сохраняем для каждой метки класса - сколько меток, таков и размер tuple\n",
        "            prediction.append(\n",
        "                tuple(\n",
        "                    posterior_class_proba[label] for label in self.labels\n",
        "                )\n",
        "            )\n",
        "        \n",
        "        print(f'proba: {prediction}')\n",
        "        return prediction\n",
        "    \n",
        "    def predict(self, data) -> List[str]:\n",
        "        predict_labels = []\n",
        "        \n",
        "        for proba in self._predict_proba(data):\n",
        "            predict_labels.append(self.labels[np.argmax(proba)])\n",
        "        \n",
        "        return predict_labels\n",
        "\n",
        "naive_bayes = NaiveBayes()"
      ],
      "execution_count": 25,
      "outputs": []
    },
    {
      "cell_type": "markdown",
      "metadata": {
        "id": "lZUNRmFpo4nW"
      },
      "source": [
        "### Обучение классификатора:"
      ]
    },
    {
      "cell_type": "code",
      "metadata": {
        "colab": {
          "base_uri": "https://localhost:8080/"
        },
        "id": "56m8R14YnFOz",
        "outputId": "f32d78df-399c-44a4-ffa7-aeb0e744f8fb"
      },
      "source": [
        "naive_bayes.fit(\n",
        "    data=df['sms_text'].values.tolist(),\n",
        "    target=df['class'].tolist()\n",
        ")"
      ],
      "execution_count": 26,
      "outputs": [
        {
          "output_type": "stream",
          "text": [
            "Данные инициализированы!\n",
            "Априорные вероятности классов Counter({'ham': 0.8658886894075404, 'spam': 0.1341113105924596})\n",
            "Обучили априорные вероятности слов\n"
          ],
          "name": "stdout"
        }
      ]
    },
    {
      "cell_type": "code",
      "metadata": {
        "colab": {
          "base_uri": "https://localhost:8080/"
        },
        "id": "WFGa7eQMnIdG",
        "outputId": "7e084a0b-d597-4d75-ed49-3c9fe7e5413e"
      },
      "source": [
        "naive_bayes.prior_word_proba['ham']['thank'], naive_bayes.prior_word_proba['spam']['thank']"
      ],
      "execution_count": 27,
      "outputs": [
        {
          "output_type": "execute_result",
          "data": {
            "text/plain": [
              "(0.000308546744831842, 1.1427657215994148e-05)"
            ]
          },
          "metadata": {
            "tags": []
          },
          "execution_count": 27
        }
      ]
    },
    {
      "cell_type": "markdown",
      "metadata": {
        "id": "91_72rPonLJ7"
      },
      "source": [
        "### Предсказание метки класса"
      ]
    },
    {
      "cell_type": "code",
      "metadata": {
        "colab": {
          "base_uri": "https://localhost:8080/"
        },
        "id": "N5358h2RnMAU",
        "outputId": "7be4b885-f39a-4e82-ff7f-87fbac05f124"
      },
      "source": [
        "import numpy as np\n",
        "# рандомный объект датасета\n",
        "\n",
        "random_obj_ind = np.random.randint(low=0, high=num_objects, size=3)\n",
        "random_obj_list = df['sms_text'].values[random_obj_ind].tolist()\n",
        "random_target = df['class'][random_obj_ind].tolist()\n",
        "\n",
        "print(random_obj_list)\n",
        "naive_bayes.predict(\n",
        "    random_obj_list\n",
        ")"
      ],
      "execution_count": 28,
      "outputs": [
        {
          "output_type": "stream",
          "text": [
            "['Ok lor...', \"Hey what's up charles sorry about the late reply.\", 'Sir Goodmorning, Once free call me.']\n",
            "proba: [(5.683335527901372e-06, 0.0), (4.159418936709925e-28, 0.0), (3.5216629845868984e-19, 0.0)]\n"
          ],
          "name": "stdout"
        },
        {
          "output_type": "execute_result",
          "data": {
            "text/plain": [
              "['ham', 'ham', 'ham']"
            ]
          },
          "metadata": {
            "tags": []
          },
          "execution_count": 28
        }
      ]
    }
  ]
}