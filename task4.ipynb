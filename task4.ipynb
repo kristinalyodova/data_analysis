{
  "nbformat": 4,
  "nbformat_minor": 0,
  "metadata": {
    "colab": {
      "name": "task4.ipynb",
      "provenance": [],
      "collapsed_sections": []
    },
    "kernelspec": {
      "name": "python3",
      "display_name": "Python 3"
    },
    "language_info": {
      "name": "python"
    }
  },
  "cells": [
    {
      "cell_type": "markdown",
      "metadata": {
        "id": "YC52NEXgOCI9"
      },
      "source": [
        "\n",
        "# МОСКОВСКИЙ АВИАЦИОННЫЙ ИНСТИТУТ\n",
        "#(Национальный исследовательский университет)\n",
        "## Домашняя работа №4\n",
        "## по дисциплине: \"Анализ данных\"\n",
        "## Выполнила:\n",
        "## студентка группы Т12О-101М-20\n",
        "## Лёдова Кристина\n",
        "## Преподаватель:\n",
        "## Джумурат Александр\n",
        "### Москва, 2021 г.\n"
      ]
    },
    {
      "cell_type": "markdown",
      "metadata": {
        "id": "dL4c__U-Oold"
      },
      "source": [
        "###**Введение в машинное обучение: линейная регрессия**"
      ]
    },
    {
      "cell_type": "markdown",
      "metadata": {
        "id": "21zEUbvmTs2A"
      },
      "source": [
        "###Исходные данные: датасет с ценами на дома в Бостоне."
      ]
    },
    {
      "cell_type": "code",
      "metadata": {
        "colab": {
          "base_uri": "https://localhost:8080/"
        },
        "id": "xKn77NVaSTXp",
        "outputId": "0a226328-0eea-4f23-e16e-920ec1adb1b2"
      },
      "source": [
        "from sklearn.datasets import load_boston\n",
        "\n",
        "boston_dataset = load_boston()\n",
        "\n",
        "features = boston_dataset.data\n",
        "y = boston_dataset.target\n",
        "print('Фичи')\n",
        "print(features)\n",
        "print('\\nЦелевая переменная y')\n",
        "print(y[:10])\n",
        "\n",
        "\n",
        "# текстовое описание датасета\n",
        "# print('\\n',boston_dataset.DESCR)"
      ],
      "execution_count": 8,
      "outputs": [
        {
          "output_type": "stream",
          "text": [
            "Фичи\n",
            "[[6.3200e-03 1.8000e+01 2.3100e+00 ... 1.5300e+01 3.9690e+02 4.9800e+00]\n",
            " [2.7310e-02 0.0000e+00 7.0700e+00 ... 1.7800e+01 3.9690e+02 9.1400e+00]\n",
            " [2.7290e-02 0.0000e+00 7.0700e+00 ... 1.7800e+01 3.9283e+02 4.0300e+00]\n",
            " ...\n",
            " [6.0760e-02 0.0000e+00 1.1930e+01 ... 2.1000e+01 3.9690e+02 5.6400e+00]\n",
            " [1.0959e-01 0.0000e+00 1.1930e+01 ... 2.1000e+01 3.9345e+02 6.4800e+00]\n",
            " [4.7410e-02 0.0000e+00 1.1930e+01 ... 2.1000e+01 3.9690e+02 7.8800e+00]]\n",
            "\n",
            "Целевая переменная y\n",
            "[24.  21.6 34.7 33.4 36.2 28.7 22.9 27.1 16.5 18.9]\n"
          ],
          "name": "stdout"
        }
      ]
    },
    {
      "cell_type": "markdown",
      "metadata": {
        "id": "hZGhlK6nURVK"
      },
      "source": [
        "###**Задание 1:**\n",
        "###1) Реализуйте формулу матричного умножения для вычисления коэффициентов линейной регрессии на языке python.\n",
        "###Код для аналитического вычисления коэффициентов линейной регрессии по формуле $\\overline{w} = \\left(X^TX\\right)^{-1}X^T\\overline{y}$\n",
        "###2) Сравнить по евклидовому расстоянию коэффициенты из класса LinearRegression и полученные аналитическим способом"
      ]
    },
    {
      "cell_type": "code",
      "metadata": {
        "colab": {
          "base_uri": "https://localhost:8080/"
        },
        "id": "afjP9LLtVHf1",
        "outputId": "b45ebdca-79ac-47bb-deae-79d11538f9b8"
      },
      "source": [
        "from numpy.linalg import inv, norm\n",
        "import numpy as np\n",
        "from sklearn.linear_model import LinearRegression\n",
        "from scipy.spatial import distance\n",
        "\n",
        "# вычисляем коэффициенты линейной регрессии\n",
        "w_analytic = np.zeros(features.shape[1])\n",
        "#-------- ВАШ КОД ТУТ -------------------\n",
        "\n",
        "features = boston_dataset.data # матрица X\n",
        "\n",
        "o = np.ones(features.shape[0])\n",
        "features_ = np.c_[o,features]\n",
        "\n",
        "y = boston_dataset.target # таргет (целевая переменная)\n",
        "x = features_\n",
        "\n",
        "w_analytic = inv(x.T.dot(x)).dot(x.T).dot(y)\n",
        "\n",
        "#----------------------------------------\n",
        "\n",
        "print(f'Аналитически определённые коэффициенты {w_analytic}')"
      ],
      "execution_count": 9,
      "outputs": [
        {
          "output_type": "stream",
          "text": [
            "Аналитически определённые коэффициенты [ 3.64594884e+01 -1.08011358e-01  4.64204584e-02  2.05586264e-02\n",
            "  2.68673382e+00 -1.77666112e+01  3.80986521e+00  6.92224640e-04\n",
            " -1.47556685e+00  3.06049479e-01 -1.23345939e-02 -9.52747232e-01\n",
            "  9.31168327e-03 -5.24758378e-01]\n"
          ],
          "name": "stdout"
        }
      ]
    },
    {
      "cell_type": "markdown",
      "metadata": {
        "id": "XPaPamJaVjrP"
      },
      "source": [
        "###Сравнение результатов:"
      ]
    },
    {
      "cell_type": "code",
      "metadata": {
        "colab": {
          "base_uri": "https://localhost:8080/"
        },
        "id": "Up_iCbrbVo3B",
        "outputId": "7b4b45bf-9ae1-49ff-9fa7-472e84268e4f"
      },
      "source": [
        "from numpy.linalg import inv, norm\n",
        "\n",
        "# обучаем модель \"из коробки\"\n",
        "reg = LinearRegression().fit(features, y)\n",
        "sklearn = np.append([reg.intercept_], reg.coef_)\n",
        "\n",
        "try:\n",
        "    linalg_norm = norm(sklearn - w_analytic)\n",
        "    print(f\"Коэффициенты, вычисленные моделью sklearn {sklearn}\")\n",
        "    print(f\"Евклидово расстояние между наборами коэффициентов {linalg_norm}\\n\")\n",
        "except:\n",
        "    print(\"К матрице фичей X нужно добавить столбец, который состоит из единиц\")"
      ],
      "execution_count": 15,
      "outputs": [
        {
          "output_type": "stream",
          "text": [
            "Коэффициенты, вычисленные моделью sklearn [ 3.64594884e+01 -1.08011358e-01  4.64204584e-02  2.05586264e-02\n",
            "  2.68673382e+00 -1.77666112e+01  3.80986521e+00  6.92224640e-04\n",
            " -1.47556685e+00  3.06049479e-01 -1.23345939e-02 -9.52747232e-01\n",
            "  9.31168327e-03 -5.24758378e-01]\n",
            "Евклидово расстояние между наборами коэффициентов 2.0775443994364255e-11\n",
            "\n"
          ],
          "name": "stdout"
        }
      ]
    },
    {
      "cell_type": "markdown",
      "metadata": {
        "id": "lnC-YlYOWyTb"
      },
      "source": [
        "\n",
        "###**Задание 2:**\n",
        "\n",
        "###Визуализируйте в виде \"столбиков\" коэффициенты \"из коробки\" (т.е. из sklearn) и полученные аналитически на одном графике. Для наглядности используйте различную \"прозрачность\" столбиков\n"
      ]
    },
    {
      "cell_type": "code",
      "metadata": {
        "colab": {
          "base_uri": "https://localhost:8080/",
          "height": 313
        },
        "id": "l_ssqV7tW6mc",
        "outputId": "5553f0b6-893b-476a-e1ce-011058a7d152"
      },
      "source": [
        "from matplotlib import pyplot as plt\n",
        "%matplotlib inline\n",
        "\n",
        "#-------- ВАШ КОД ТУТ -------------------\n",
        "\n",
        "\n",
        "fig, subplot = plt.subplots()\n",
        "\n",
        "subplot.hist([w_sklearn, w_analytic], bins=10, alpha=0.9, label=['Predicted', 'Analytics'])\n",
        "\n",
        "fig.legend()\n",
        "\n",
        "#----------------------------------------"
      ],
      "execution_count": 16,
      "outputs": [
        {
          "output_type": "execute_result",
          "data": {
            "text/plain": [
              "<matplotlib.legend.Legend at 0x7f22e00c3210>"
            ]
          },
          "metadata": {
            "tags": []
          },
          "execution_count": 16
        },
        {
          "output_type": "display_data",
          "data": {
            "image/png": "[encoded data removed]",
            "text/plain": [
              "<Figure size 432x288 with 1 Axes>"
            ]
          },
          "metadata": {
            "tags": [],
            "needs_background": "light"
          }
        }
      ]
    },
    {
      "cell_type": "markdown",
      "metadata": {
        "id": "TTVz5nauXKKv"
      },
      "source": [
        "###Вывод: гистограммы совпадают."
      ]
    },
    {
      "cell_type": "markdown",
      "metadata": {
        "id": "Y6sfwZQXXR6r"
      },
      "source": [
        "###**Задание 3:**\n",
        "\n",
        "###Постройте предсказания двумя моделями\n",
        "###- вашей моделью;\n",
        "###- моделью из библиотеки sklearn.\n",
        "\n",
        "###Посчитайте, какую ошибку $(\\hat{y}-y)$ даёт модели на каждом обучающем примере каждая из моделей и постройте две гистограммы на одном графике c наложением (одна должна \"просвечивать\" через другую). Если вы всё сделали правильно, гистограммы ошибок должны совпасть\n"
      ]
    },
    {
      "cell_type": "code",
      "metadata": {
        "id": "-TZk4Ay9YrQP"
      },
      "source": [
        "# модель sklearn\n",
        "y_pred = reg.predict(features)\n",
        "\n",
        "# аналитическая модель\n",
        "y_analytic = x.dot(w_analytic)\n",
        "\n",
        "# истинные значения\n",
        "y_true = y\n"
      ],
      "execution_count": 20,
      "outputs": []
    },
    {
      "cell_type": "code",
      "metadata": {
        "colab": {
          "base_uri": "https://localhost:8080/",
          "height": 327
        },
        "id": "oKQq0QZdYvZ8",
        "outputId": "903aa07b-afc7-4ff2-b409-5cdc191820be"
      },
      "source": [
        "#-------- ВАШ КОД ТУТ -------------------\n",
        "fig, subplot = plt.subplots()\n",
        "\n",
        "subplot.hist([y_pred - y_true, y_analytic - y_true], label=['Sklearn', 'Analytics'], alpha=0.9)\n",
        "\n",
        "subplot.set_title('Распределение ошибок')\n",
        "subplot.set_xlabel('Величина ошибки')\n",
        "subplot.set_ylabel('Количество таких ошибок')\n",
        "fig.legend()\n",
        "#----------------------------------------\n"
      ],
      "execution_count": 21,
      "outputs": [
        {
          "output_type": "execute_result",
          "data": {
            "text/plain": [
              "<matplotlib.legend.Legend at 0x7f22dfa990d0>"
            ]
          },
          "metadata": {
            "tags": []
          },
          "execution_count": 21
        },
        {
          "output_type": "display_data",
          "data": {
            "image/png": "[encoded data removed]",
            "text/plain": [
              "<Figure size 432x288 with 1 Axes>"
            ]
          },
          "metadata": {
            "tags": [],
            "needs_background": "light"
          }
        }
      ]
    },
    {
      "cell_type": "markdown",
      "metadata": {
        "id": "cQaBllaqZfql"
      },
      "source": [
        "###Вывод: гистограммы совпадают."
      ]
    }
  ]
}